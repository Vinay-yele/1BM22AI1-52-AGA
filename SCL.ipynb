{
  "nbformat": 4,
  "nbformat_minor": 0,
  "metadata": {
    "colab": {
      "provenance": [],
      "include_colab_link": true
    },
    "kernelspec": {
      "name": "python3",
      "display_name": "Python 3"
    },
    "language_info": {
      "name": "python"
    }
  },
  "cells": [
    {
      "cell_type": "markdown",
      "metadata": {
        "id": "view-in-github",
        "colab_type": "text"
      },
      "source": [
        "<a href=\"https://colab.research.google.com/github/Vinay-yele/1BM22AI152-AGA/blob/main/SCL.ipynb\" target=\"_parent\"><img src=\"https://colab.research.google.com/assets/colab-badge.svg\" alt=\"Open In Colab\"/></a>"
      ]
    },
    {
      "cell_type": "markdown",
      "source": [
        "$PROGRAM-1$ : $FUZZYRELATIONS$"
      ],
      "metadata": {
        "id": "00RRb1mUMWyR"
      }
    },
    {
      "cell_type": "code",
      "source": [
        "import numpy as np\n",
        "\n",
        "R = {\n",
        "    \"Low Temp\": [0.8, 0.5, 0.3],\n",
        "    \"Medium Temp\": [0.6, 0.7, 0.4],\n",
        "    \"High Temp\": [0.3, 0.6, 0.9]\n",
        "}\n",
        "\n",
        "# Fuzzy Relations for Humidity to Cooling (S(Y -> Z))\n",
        "S = {\n",
        "    \"Dry\": [0.7, 0.4, 0.3],        # Low Cooling, Medium Cooling, High Cooling\n",
        "    \"Normal\": [0.5, 0.6, 0.4],\n",
        "    \"Humid\": [0.2, 0.5, 0.8]\n",
        "}\n",
        "\n",
        "# Input values\n",
        "temperature_input = \"Low Temp\"  # Low Temperature\n",
        "humidity_input = \"Dry\"         # Dry Humidity\n",
        "\n",
        "# Extract the relevant membership values for the given inputs\n",
        "mu_R = R[temperature_input]  # Membership values for Low Temp\n",
        "mu_S = S[humidity_input]     # Membership values for Dry Humidity\n",
        "\n",
        "# Apply Min-Max Composition\n",
        "def min_max_composition(mu_R, mu_S):\n",
        "    # Initialize the result for the composed relation (Low Cooling, Medium Cooling, High Cooling)\n",
        "    result = []\n",
        "\n",
        "    # Perform Min-Max Composition for each cooling action (Low, Medium, High Cooling)\n",
        "    for z in range(3):  # We have 3 cooling actions\n",
        "        # Take the minimum of the corresponding values from R and S\n",
        "        min_value = min(mu_R[0], mu_S[0]) if z == 0 else \\\n",
        "                    min(mu_R[1], mu_S[1]) if z == 1 else \\\n",
        "                    min(mu_R[2], mu_S[2])\n",
        "        result.append(min_value)\n",
        "\n",
        "    return result\n",
        "\n",
        "# Calculate the final result for Low Temp and Dry Humidity\n",
        "composed_result = min_max_composition(mu_R, mu_S)\n",
        "\n",
        "# Find the maximum membership value to determine the cooling action\n",
        "cooling_action = [\"Low Cooling\", \"Medium Cooling\", \"High Cooling\"]\n",
        "max_membership_value = max(composed_result)\n",
        "action_index = composed_result.index(max_membership_value)\n",
        "\n",
        "# Output the results\n",
        "print(f\"Input: Temperature = {temperature_input}, Humidity = {humidity_input}\")\n",
        "print(f\"Membership values for Cooling Actions: {composed_result}\")\n",
        "print(f\"The system selects: {cooling_action[action_index]} with a membership value of {max_membership_value:.2f}\")\n"
      ],
      "metadata": {
        "colab": {
          "base_uri": "https://localhost:8080/"
        },
        "id": "RzjS0LTZMl37",
        "outputId": "b417889e-32cc-4cd7-a8a7-686e2185cbac"
      },
      "execution_count": null,
      "outputs": [
        {
          "output_type": "stream",
          "name": "stdout",
          "text": [
            "Input: Temperature = Low Temp, Humidity = Dry\n",
            "Membership values for Cooling Actions: [0.7, 0.4, 0.3]\n",
            "The system selects: Low Cooling with a membership value of 0.70\n"
          ]
        }
      ]
    },
    {
      "cell_type": "markdown",
      "source": [
        "$PROGRAM-2$ : $DEFUZZIFICATION AND CONTROLLER$\n"
      ],
      "metadata": {
        "id": "POxL9OPTM3LT"
      }
    },
    {
      "cell_type": "code",
      "source": [
        "# Defuzzification, Lambda cut method Define the fuzzy set as a dictionary where the keys are the elements and the values are their membership values\n",
        "fuzzy_set = {'x': 4.5, 'y': 3.5, 'z':4.33}\n",
        "\n",
        "# Define the lambda value for the cut\n",
        "lambda_value = 4\n",
        "\n",
        "# Perform the lambda cut\n",
        "def lambda_cut(fuzzy_set, lambda_value):\n",
        "    # Create a list to store the elements that satisfy the lambda-cut condition\n",
        "    cut_set = []\n",
        "\n",
        "    # Iterate through the fuzzy set\n",
        "    for element, membership_value in fuzzy_set.items():\n",
        "        if membership_value >= lambda_value:\n",
        "            cut_set.append(element)\n",
        "\n",
        "    return cut_set\n",
        "\n",
        "# Get the resulting crisp set (elements with membership >= lambda_value)\n",
        "result = lambda_cut(fuzzy_set, lambda_value)\n",
        "\n",
        "# Output the result\n",
        "print(f\"Elements in the fuzzy set with membership >= {lambda_value}: {result}\")\n"
      ],
      "metadata": {
        "colab": {
          "base_uri": "https://localhost:8080/"
        },
        "id": "LrNNoDXHNA7S",
        "outputId": "b2fe0550-8962-430c-c899-359555fe36cd"
      },
      "execution_count": null,
      "outputs": [
        {
          "output_type": "stream",
          "name": "stdout",
          "text": [
            "Elements in the fuzzy set with membership >= 4: ['x', 'z']\n"
          ]
        }
      ]
    },
    {
      "cell_type": "code",
      "source": [
        "#Mean of maximum method\n",
        "def mean_of_maximum(fuzzy_set):\n",
        "    # Find the maximum membership value\n",
        "    max_membership = max(fuzzy_set.values())\n",
        "\n",
        "    # Get all x values where membership is maximum\n",
        "    max_x_values = [x for x, mu in fuzzy_set.items() if mu == max_membership]\n",
        "\n",
        "    # Compute the mean of these x values\n",
        "    return sum(max_x_values) / len(max_x_values)\n",
        "\n",
        "# Example fuzzy set (dictionary format: {x: membership_value})\n",
        "fuzzy_set = {1: 0.2, 2: 0.5, 3: 0.8, 4: 1.0, 5: 1.0, 6: 0.7, 7: 0.3}\n",
        "\n",
        "# Compute MOM defuzzification\n",
        "result = mean_of_maximum(fuzzy_set)\n",
        "\n",
        "# Output the result\n",
        "print(f\"Mean of Maximum (MOM) defuzzified value: {result}\")"
      ],
      "metadata": {
        "colab": {
          "base_uri": "https://localhost:8080/"
        },
        "id": "AbsuPm4CNH-3",
        "outputId": "3b283260-764a-4e10-8d70-b4326787ba6b"
      },
      "execution_count": null,
      "outputs": [
        {
          "output_type": "stream",
          "name": "stdout",
          "text": [
            "Mean of Maximum (MOM) defuzzified value: 4.5\n"
          ]
        }
      ]
    },
    {
      "cell_type": "code",
      "source": [
        "def center_of_gravity(fuzzy_set):\n",
        "    # Compute the numerator (sum of x * μ(x))\n",
        "    numerator = sum(x * mu for x, mu in fuzzy_set.items())\n",
        "\n",
        "    # Compute the denominator (sum of μ(x))\n",
        "    denominator = sum(fuzzy_set.values())\n",
        "\n",
        "    # Avoid division by zero\n",
        "    return numerator / denominator if denominator != 0 else 0\n",
        "\n",
        "# Example fuzzy set (dictionary format: {x: membership_value})\n",
        "fuzzy_set = {1: 0.2, 2: 0.5, 3: 0.8, 4: 1.0, 5: 0.7}\n",
        "\n",
        "# Compute COG defuzzification\n",
        "result = center_of_gravity(fuzzy_set)\n",
        "\n",
        "# Output the result\n",
        "print(f\"Center of Gravity (COG) defuzzified value: {result}\")\n"
      ],
      "metadata": {
        "colab": {
          "base_uri": "https://localhost:8080/"
        },
        "id": "ewPa-gAsNTJe",
        "outputId": "a46bfeb7-1b8d-473f-9e8a-0c7ba8d00512"
      },
      "execution_count": null,
      "outputs": [
        {
          "output_type": "stream",
          "name": "stdout",
          "text": [
            "Center of Gravity (COG) defuzzified value: 3.4687500000000004\n"
          ]
        }
      ]
    },
    {
      "cell_type": "markdown",
      "source": [
        "$PROGRAM-3$ : $GENETIC ALGORITHM$"
      ],
      "metadata": {
        "id": "qEdS33c7NcbR"
      }
    },
    {
      "cell_type": "code",
      "source": [
        "import numpy as np\n",
        "import matplotlib.pyplot as plt\n",
        "\n",
        "# --- Fitness Function ---\n",
        "def fitness_function(x):\n",
        "    return x * np.sin(x)\n",
        "\n",
        "# --- Genetic Algorithm Parameters ---\n",
        "population_size = 20\n",
        "generations = 50\n",
        "crossover_rate = 0.8\n",
        "mutation_rate = 0.1\n",
        "gene_bounds = (0, 10)  # valid range of x values\n",
        "\n",
        "# --- Initialize Population (array of real numbers) ---\n",
        "population = np.random.uniform(gene_bounds[0], gene_bounds[1], size=population_size)\n",
        "\n",
        "# --- Track Best Fitness Over Generations ---\n",
        "best_fitness_history = []\n",
        "\n",
        "# --- Genetic Algorithm Main Loop ---\n",
        "for generation in range(generations):\n",
        "    # Step 1: Evaluate Fitness\n",
        "    fitness = fitness_function(population)\n",
        "\n",
        "    # Step 2: Selection (Select top 50%)\n",
        "    sorted_indices = np.argsort(fitness)[::-1]\n",
        "    top_half = population[sorted_indices[:population_size // 2]]\n",
        "\n",
        "    # Step 3: Crossover\n",
        "    children = []\n",
        "    while len(children) < population_size:\n",
        "        if np.random.rand() < crossover_rate:\n",
        "            parent1, parent2 = np.random.choice(top_half, 2, replace=False)\n",
        "            child = (parent1 + parent2) / 2\n",
        "        else:\n",
        "            child = np.random.choice(top_half)\n",
        "        # Step 4: Mutation\n",
        "        if np.random.rand() < mutation_rate:\n",
        "            child += np.random.uniform(-1.0, 1.0)\n",
        "        # Keep child within bounds\n",
        "        child = np.clip(child, gene_bounds[0], gene_bounds[1])\n",
        "        children.append(child)\n",
        "\n",
        "    # Step 5: Replace old population with new one\n",
        "    population = np.array(children)\n",
        "\n",
        "    # Track best fitness in current generation\n",
        "    best_fitness = np.max(fitness_function(population))\n",
        "    best_fitness_history.append(best_fitness)\n",
        "\n",
        "    print(f\"Generation {generation + 1}: Best Fitness = {best_fitness:.4f}\")\n",
        "\n",
        "# --- Final Result ---\n",
        "best_solution = population[np.argmax(fitness_function(population))]\n",
        "print(f\"\\n✅ Best Solution: x = {best_solution:.4f}, f(x) = {fitness_function(best_solution):.4f}\")\n",
        "\n",
        "# --- Plot Fitness Over Generations ---\n",
        "plt.plot(best_fitness_history, label='Best Fitness')\n",
        "plt.title(\"Fitness Over Generations\")\n",
        "plt.xlabel(\"Generation\")\n",
        "plt.ylabel(\"Fitness\")\n",
        "plt.legend()\n",
        "plt.grid(True)\n",
        "plt.show()\n"
      ],
      "metadata": {
        "colab": {
          "base_uri": "https://localhost:8080/",
          "height": 1000
        },
        "id": "ENPKzinYNjVg",
        "outputId": "f60a2ffb-af4e-47c4-8f50-5886e4a75142"
      },
      "execution_count": null,
      "outputs": [
        {
          "output_type": "stream",
          "name": "stdout",
          "text": [
            "Generation 1: Best Fitness = 7.9166\n",
            "Generation 2: Best Fitness = 7.9166\n",
            "Generation 3: Best Fitness = 7.9167\n",
            "Generation 4: Best Fitness = 7.9167\n",
            "Generation 5: Best Fitness = 7.9167\n",
            "Generation 6: Best Fitness = 7.9167\n",
            "Generation 7: Best Fitness = 7.9167\n",
            "Generation 8: Best Fitness = 7.9167\n",
            "Generation 9: Best Fitness = 7.9167\n",
            "Generation 10: Best Fitness = 7.9167\n",
            "Generation 11: Best Fitness = 7.9167\n",
            "Generation 12: Best Fitness = 7.9167\n",
            "Generation 13: Best Fitness = 7.9167\n",
            "Generation 14: Best Fitness = 7.9167\n",
            "Generation 15: Best Fitness = 7.9167\n",
            "Generation 16: Best Fitness = 7.9167\n",
            "Generation 17: Best Fitness = 7.9167\n",
            "Generation 18: Best Fitness = 7.9167\n",
            "Generation 19: Best Fitness = 7.9167\n",
            "Generation 20: Best Fitness = 7.9167\n",
            "Generation 21: Best Fitness = 7.9167\n",
            "Generation 22: Best Fitness = 7.9167\n",
            "Generation 23: Best Fitness = 7.9167\n",
            "Generation 24: Best Fitness = 7.9167\n",
            "Generation 25: Best Fitness = 7.9167\n",
            "Generation 26: Best Fitness = 7.9167\n",
            "Generation 27: Best Fitness = 7.9167\n",
            "Generation 28: Best Fitness = 7.9167\n",
            "Generation 29: Best Fitness = 7.9167\n",
            "Generation 30: Best Fitness = 7.9167\n",
            "Generation 31: Best Fitness = 7.9167\n",
            "Generation 32: Best Fitness = 7.9167\n",
            "Generation 33: Best Fitness = 7.9167\n",
            "Generation 34: Best Fitness = 7.9167\n",
            "Generation 35: Best Fitness = 7.9167\n",
            "Generation 36: Best Fitness = 7.9167\n",
            "Generation 37: Best Fitness = 7.9167\n",
            "Generation 38: Best Fitness = 7.9167\n",
            "Generation 39: Best Fitness = 7.9167\n",
            "Generation 40: Best Fitness = 7.9167\n",
            "Generation 41: Best Fitness = 7.9167\n",
            "Generation 42: Best Fitness = 7.9167\n",
            "Generation 43: Best Fitness = 7.9167\n",
            "Generation 44: Best Fitness = 7.9167\n",
            "Generation 45: Best Fitness = 7.9167\n",
            "Generation 46: Best Fitness = 7.9167\n",
            "Generation 47: Best Fitness = 7.9167\n",
            "Generation 48: Best Fitness = 7.9167\n",
            "Generation 49: Best Fitness = 7.9167\n",
            "Generation 50: Best Fitness = 7.9167\n",
            "\n",
            "✅ Best Solution: x = 7.9787, f(x) = 7.9167\n"
          ]
        },
        {
          "output_type": "display_data",
          "data": {
            "text/plain": [
              "<Figure size 640x480 with 1 Axes>"
            ],
            "image/png": "[encoded data removed]"
          },
          "metadata": {}
        }
      ]
    },
    {
      "cell_type": "markdown",
      "source": [
        "$PROGRAM-4$ : $PARALLEL ALGORITHMS$"
      ],
      "metadata": {
        "id": "u8Gd8wmiNnr4"
      }
    },
    {
      "cell_type": "code",
      "source": [
        "import concurrent.futures\n",
        "def merge(left, right):\n",
        "    result = []\n",
        "    i = j = 0\n",
        "    while i < len(left) and j < len(right):\n",
        "        if left[i] < right[j]:\n",
        "            result.append(left[i])\n",
        "            i += 1\n",
        "        else:\n",
        "            result.append(right[j])\n",
        "            j += 1\n",
        "    result.extend(left[i:])\n",
        "    result.extend(right[j:])\n",
        "    return result\n",
        "def parallel_merge_sort(arr):\n",
        "    if len(arr) <= 1:\n",
        "        return arr\n",
        "    mid = len(arr) // 2\n",
        "    with concurrent.futures.ProcessPoolExecutor(max_workers=8) as executor:\n",
        "        left_future = executor.submit(parallel_merge_sort, arr[:mid])\n",
        "        right_future = executor.submit(parallel_merge_sort, arr[mid:])\n",
        "        left = left_future.result()\n",
        "        right = right_future.result()\n",
        "    return merge(left, right)\n",
        "arr = [38, 27, 43, 3, 9, 82, 10]\n",
        "sorted_arr = parallel_merge_sort(arr)\n",
        "print(sorted_arr)\n"
      ],
      "metadata": {
        "colab": {
          "base_uri": "https://localhost:8080/"
        },
        "id": "wwGs06BZNzFG",
        "outputId": "8408b816-00fa-48dc-ff4b-ab5e903a9c2e"
      },
      "execution_count": null,
      "outputs": [
        {
          "output_type": "stream",
          "name": "stdout",
          "text": [
            "[3, 9, 10, 27, 38, 43, 82]\n"
          ]
        }
      ]
    },
    {
      "cell_type": "markdown",
      "source": [
        "Ensemble model : A Stacking-based SMS spam detection model using TF-IDF vectorization and ensemble learning with Scikit-learn."
      ],
      "metadata": {
        "id": "VJXxL6i0OEDF"
      }
    },
    {
      "cell_type": "code",
      "source": [
        "import pandas as pd\n",
        "from sklearn.model_selection import train_test_split\n",
        "from sklearn.feature_extraction.text import TfidfVectorizer\n",
        "from sklearn.ensemble import StackingClassifier\n",
        "from sklearn.pipeline import make_pipeline\n",
        "from sklearn.naive_bayes import MultinomialNB,CategoricalNB\n",
        "from sklearn.svm import SVC\n",
        "from sklearn.linear_model import LogisticRegression\n",
        "from sklearn.ensemble import RandomForestClassifier\n",
        "from sklearn.metrics import classification_report\n",
        "df = pd.read_csv(\"https://raw.githubusercontent.com/justmarkham/pycon-2016-tutorial/master/data/sms.tsv\", sep='\\t', names=['label', 'message'])\n",
        "df['label'] = df['label'].map({'ham': 0, 'spam': 1})\n",
        "X_train, X_test, y_train, y_test = train_test_split(df['message'], df['label'], test_size=0.2, random_state=42)\n",
        "pipeline = make_pipeline(\n",
        "    TfidfVectorizer(),\n",
        "    StackingClassifier(\n",
        "        estimators=[('nb', MultinomialNB()), ('svc', SVC(probability=True)), ('rf', RandomForestClassifier(n_estimators=100, random_state=42))],\n",
        "        final_estimator=LogisticRegression()\n",
        "    )\n",
        ")\n",
        "pipeline.fit(X_train, y_train)\n",
        "print(classification_report(y_test, pipeline.predict(X_test)))\n"
      ],
      "metadata": {
        "id": "Axbl3RxBOF2c"
      },
      "execution_count": null,
      "outputs": []
    },
    {
      "cell_type": "markdown",
      "source": [
        "$PROGRAM-5$ : $ANT COLONY OPTIMIZATION$"
      ],
      "metadata": {
        "id": "kQ7O2GGVOMtj"
      }
    },
    {
      "cell_type": "code",
      "source": [
        "import numpy as np\n",
        "\n",
        "# Parameters\n",
        "num_ants, num_iter, rho, Q = 2, 5, 100, 5  # Number of ants, iterations, evaporation rate, pheromone factor\n",
        "\n",
        "dist = np.array([[0,10,17,10], [10,0,10,10], [17,10,0,10], [10,10,10,0]])  # Distance matrix\n",
        "n = len(dist)  # Number of cities\n",
        "pher = np.ones((n, n))  # Initialize pheromone matrix with ones\n",
        "\n",
        "# Function to calculate the cost (total distance) of a given path\n",
        "def cost(path):\n",
        "    return sum(dist[path[i], path[i+1]] for i in range(n-1)) + dist[path[-1], path[0]]\n",
        "\n",
        "# Function to update pheromone levels based on solutions\n",
        "def update(pher, sols):\n",
        "    for path in sols:\n",
        "        for i in range(n):\n",
        "            pher[path[i], path[(i+1) % n]] += Q / cost(path)  # Pheromone deposit\n",
        "    pher *= (1 - rho)  # Evaporation of pheromone\n",
        "\n",
        "# Ant Colony Optimization function\n",
        "def aco():\n",
        "    best_path, best_cost = None, float('inf')\n",
        "    for _ in range(num_iter):\n",
        "        sols = [np.random.permutation(n) for _ in range(num_ants)]  # Generate solutions\n",
        "        update(pher, sols)  # Update pheromones\n",
        "        for path in sols:\n",
        "            c = cost(path)\n",
        "            if c < best_cost:\n",
        "                best_path, best_cost = path, c  # Update best solution\n",
        "    return best_path, best_cost\n",
        "\n",
        "# Run the ACO algorithm and print the best solution\n",
        "print(\"Best solution:\", *aco())\n"
      ],
      "metadata": {
        "colab": {
          "base_uri": "https://localhost:8080/"
        },
        "id": "dv-F29msOT4a",
        "outputId": "3243461b-03c3-49d3-d1e5-db5c3a3dfa32"
      },
      "execution_count": null,
      "outputs": [
        {
          "output_type": "stream",
          "name": "stdout",
          "text": [
            "Best solution: [2 3 0 1] 40\n"
          ]
        }
      ]
    },
    {
      "cell_type": "markdown",
      "source": [
        "$PROGRAM-6$ : $PARTICLE$ $SWARM$ $OPTIMIZATION$"
      ],
      "metadata": {
        "id": "ZVdR3kCnOkWH"
      }
    },
    {
      "cell_type": "code",
      "source": [
        "import numpy as np\n",
        "\n",
        "\n",
        "class PSO:\n",
        "    def __init__(self, dim, bounds, func, c1=0.8, c2=0.4, particles=20, iters=100):\n",
        "        self.dim, self.bounds, self.func = dim, bounds, func\n",
        "        self.c1, self.c2, self.particles, self.iters = c1, c2, particles, iters\n",
        "\n",
        "\n",
        "    def optimize(self):\n",
        "        loc = np.random.uniform(self.bounds[:, 0], self.bounds[:, 1], (self.particles, self.dim))\n",
        "        vel = pbest = loc.copy()\n",
        "        fit = self.func(loc)\n",
        "        gbest = loc[np.argmin(fit)]\n",
        "        best_cost = np.min(fit)  # Track the best cost\n",
        "\n",
        "\n",
        "        for i in range(self.iters):\n",
        "            r = np.random.rand(self.particles, 2)\n",
        "            vel = 0.9 * vel + self.c1 * r[:, 0:1] * (pbest - loc) + self.c2 * r[:, 1:2] * (gbest - loc)\n",
        "            loc = np.clip(loc + vel, self.bounds[:, 0], self.bounds[:, 1])\n",
        "            fit_new = self.func(loc)\n",
        "            pbest[fit_new < fit], fit = loc[fit_new < fit], np.minimum(fit, fit_new)\n",
        "            gbest = loc[np.argmin(fit)] if np.min(fit) < self.func(gbest) else gbest\n",
        "            best_cost = np.min(fit)\n",
        "\n",
        "\n",
        "        return gbest, self.func(gbest), best_cost\n",
        "\n",
        "\n",
        "# Function and bounds\n",
        "def f(x): return x**2 + 5*x + 20  # x is already a 1D array\n",
        "bounds = np.array([[-10, 10]])\n",
        "\n",
        "\n",
        "# PSO optimization\n",
        "pso = PSO(1, bounds, f, particles=9, iters=50)\n",
        "best_solution, best_value, best_cost = pso.optimize()\n",
        "print(f\"Best Solution: {best_solution}, Function Value: {best_value}, Cost: {best_cost}\")\n",
        "\n",
        "\n",
        "\n",
        "\n"
      ],
      "metadata": {
        "colab": {
          "base_uri": "https://localhost:8080/"
        },
        "id": "rMB4T7a8Ozeq",
        "outputId": "fba6a367-6114-4ffa-edef-fd6a76b36b70"
      },
      "execution_count": null,
      "outputs": [
        {
          "output_type": "stream",
          "name": "stdout",
          "text": [
            "Best Solution: [-2.48882592], Function Value: [13.75012486], Cost: 13.750124859954948\n"
          ]
        }
      ]
    },
    {
      "cell_type": "markdown",
      "source": [
        "$PROGRAM-7$ : $GREY$ $WOLF$ $OPTIMIZATION$"
      ],
      "metadata": {
        "id": "kgJqSH9YO3hz"
      }
    },
    {
      "cell_type": "code",
      "source": [
        "import numpy as np\n",
        "\n",
        "# Objective Function (Sphere Function)\n",
        "def objective_function(x):\n",
        "    return np.sum(x**2)\n",
        "\n",
        "# Grey Wolf Optimizer\n",
        "def grey_wolf_optimization(obj_func, dim, n_wolves, max_iter, bounds):\n",
        "    # Initialize wolves' positions\n",
        "    wolves = np.random.uniform(bounds[0], bounds[1], (n_wolves, dim))\n",
        "    alpha, beta, delta = np.zeros(dim), np.zeros(dim), np.zeros(dim)\n",
        "    alpha_score, beta_score, delta_score = float(\"inf\"), float(\"inf\"), float(\"inf\")\n",
        "\n",
        "    print(\"Initial Wolves' Positions:\")\n",
        "    print(wolves)\n",
        "\n",
        "    for t in range(max_iter):\n",
        "        for i in range(n_wolves):\n",
        "            fitness = obj_func(wolves[i])\n",
        "            # Update alpha, beta, and delta\n",
        "            if fitness < alpha_score:\n",
        "                delta_score, delta = beta_score, beta.copy()\n",
        "                beta_score, beta = alpha_score, alpha.copy()\n",
        "                alpha_score, alpha = fitness, wolves[i].copy()\n",
        "            elif fitness < beta_score:\n",
        "                delta_score, delta = beta_score, beta.copy()\n",
        "                beta_score, beta = fitness, wolves[i].copy()\n",
        "            elif fitness < delta_score:\n",
        "                delta_score, delta = fitness, wolves[i].copy()\n",
        "\n",
        "        a = 2 - t * (2 / max_iter)  # Linearly decreasing from 2 to 0\n",
        "\n",
        "        for i in range(n_wolves):\n",
        "            for j in range(dim):\n",
        "                r1, r2 = np.random.rand(), np.random.rand()\n",
        "                A1, C1 = 2*a*r1 - a, 2*r2\n",
        "                D_alpha = abs(C1*alpha[j] - wolves[i][j])\n",
        "                X1 = alpha[j] - A1*D_alpha\n",
        "\n",
        "                r1, r2 = np.random.rand(), np.random.rand()\n",
        "                A2, C2 = 2*a*r1 - a, 2*r2\n",
        "                D_beta = abs(C2*beta[j] - wolves[i][j])\n",
        "                X2 = beta[j] - A2*D_beta\n",
        "\n",
        "                r1, r2 = np.random.rand(), np.random.rand()\n",
        "                A3, C3 = 2*a*r1 - a, 2*r2\n",
        "                D_delta = abs(C3*delta[j] - wolves[i][j])\n",
        "                X3 = delta[j] - A3*D_delta\n",
        "\n",
        "                wolves[i][j] = (X1 + X2 + X3) / 3\n",
        "\n",
        "        print(f\"\\nIteration {t+1}/{max_iter}: Best Fitness = {alpha_score:.5f}\")\n",
        "\n",
        "    print(\"\\nOptimization Complete!\")\n",
        "    print(\"Best Position Found (Alpha Wolf):\", alpha)\n",
        "    print(\"Best Fitness Value:\", alpha_score)\n",
        "\n",
        "# Parameters\n",
        "dim = 5\n",
        "n_wolves = 10\n",
        "max_iter = 20\n",
        "bounds = (-10, 10)\n",
        "\n",
        "# Run GWO\n",
        "grey_wolf_optimization(objective_function, dim, n_wolves, max_iter, bounds)\n"
      ],
      "metadata": {
        "colab": {
          "base_uri": "https://localhost:8080/"
        },
        "id": "3UgCY3YCP1jT",
        "outputId": "0eef1b80-1940-4f29-baf8-099ffadf12a6"
      },
      "execution_count": null,
      "outputs": [
        {
          "output_type": "stream",
          "name": "stdout",
          "text": [
            "Initial Wolves' Positions:\n",
            "[[-1.52408166 -2.66335632 -2.44355962  0.39174462  1.45671439]\n",
            " [ 8.50323306 -7.82647646  0.76431228 -4.41882886  6.09960145]\n",
            " [-7.36046816 -2.76091781  4.81625284 -3.08980192 -2.85643019]\n",
            " [ 0.96946203  8.30906709 -0.58504537 -2.58786118  6.48659208]\n",
            " [-8.08522566  0.95524242 -7.90681386 -4.33888537  9.2444587 ]\n",
            " [ 5.66724182 -2.22377687  5.0618794  -4.93041458 -0.99549254]\n",
            " [ 9.8724586   3.91830613  8.17928197  1.55962632  3.47433699]\n",
            " [ 6.07267335  8.1145366  -0.33623231  5.50840804 -4.34164695]\n",
            " [-5.60159374 -5.81208384  5.87985123  2.81487661 -8.59240262]\n",
            " [-0.85301055 -0.94052983  8.45114688 -0.45802712 -4.42830549]]\n",
            "\n",
            "Iteration 1/20: Best Fitness = 17.66276\n",
            "\n",
            "Iteration 2/20: Best Fitness = 17.66276\n",
            "\n",
            "Iteration 3/20: Best Fitness = 8.94415\n",
            "\n",
            "Iteration 4/20: Best Fitness = 4.96752\n",
            "\n",
            "Iteration 5/20: Best Fitness = 1.82768\n",
            "\n",
            "Iteration 6/20: Best Fitness = 1.63190\n",
            "\n",
            "Iteration 7/20: Best Fitness = 0.60937\n",
            "\n",
            "Iteration 8/20: Best Fitness = 0.46795\n",
            "\n",
            "Iteration 9/20: Best Fitness = 0.25773\n",
            "\n",
            "Iteration 10/20: Best Fitness = 0.14597\n",
            "\n",
            "Iteration 11/20: Best Fitness = 0.12501\n",
            "\n",
            "Iteration 12/20: Best Fitness = 0.09159\n",
            "\n",
            "Iteration 13/20: Best Fitness = 0.07865\n",
            "\n",
            "Iteration 14/20: Best Fitness = 0.06700\n",
            "\n",
            "Iteration 15/20: Best Fitness = 0.04904\n",
            "\n",
            "Iteration 16/20: Best Fitness = 0.04904\n",
            "\n",
            "Iteration 17/20: Best Fitness = 0.04240\n",
            "\n",
            "Iteration 18/20: Best Fitness = 0.04240\n",
            "\n",
            "Iteration 19/20: Best Fitness = 0.03881\n",
            "\n",
            "Iteration 20/20: Best Fitness = 0.03686\n",
            "\n",
            "Optimization Complete!\n",
            "Best Position Found (Alpha Wolf): [-0.1055974   0.0985795   0.05632305 -0.06874874  0.08997979]\n",
            "Best Fitness Value: 0.03686376699949858\n"
          ]
        }
      ]
    },
    {
      "cell_type": "markdown",
      "source": [
        "$PROGRAM-8$ : $CRISP$ $PARTITIONS$"
      ],
      "metadata": {
        "id": "uTFTU8t6P6lb"
      }
    },
    {
      "cell_type": "code",
      "source": [
        "import pandas as pd\n",
        "import matplotlib.pyplot as plt\n",
        "from sklearn.datasets import load_iris\n",
        "from sklearn.cluster import KMeans\n",
        "from sklearn.preprocessing import StandardScaler\n",
        "iris = load_iris()\n",
        "X = StandardScaler().fit_transform(iris.data)\n",
        "kmeans = KMeans(n_clusters=3).fit(X)\n",
        "df = pd.DataFrame(iris.data, columns=iris.feature_names)\n",
        "df['True Class'] = [iris.target_names[i] for i in iris.target]\n",
        "df['Cluster'] = kmeans.labels_\n",
        "print(df.head())\n",
        "print(\"\\nCluster distribution:\")\n",
        "print(df[['True Class', 'Cluster']].value_counts())\n",
        "plt.figure(figsize=(10, 6))\n",
        "colors = ['red', 'green', 'blue']\n",
        "for i in range(3):\n",
        "    plt.scatter(X[df['Cluster']==i, 0], X[df['Cluster']==i, 1],\n",
        "                c=colors[i], label=f'Cluster {i}')\n",
        "plt.xlabel(iris.feature_names[0])\n",
        "plt.ylabel(iris.feature_names[1])\n",
        "plt.title('K-means Clustering of Iris Dataset')\n",
        "plt.legend()\n",
        "plt.show()"
      ],
      "metadata": {
        "colab": {
          "base_uri": "https://localhost:8080/",
          "height": 983
        },
        "id": "Vpr-y9XVRaBG",
        "outputId": "c38aae88-a6dd-4bba-c883-39ad79da37b3"
      },
      "execution_count": null,
      "outputs": [
        {
          "output_type": "stream",
          "name": "stdout",
          "text": [
            "   sepal length (cm)  sepal width (cm)  petal length (cm)  petal width (cm)  \\\n",
            "0                5.1               3.5                1.4               0.2   \n",
            "1                4.9               3.0                1.4               0.2   \n",
            "2                4.7               3.2                1.3               0.2   \n",
            "3                4.6               3.1                1.5               0.2   \n",
            "4                5.0               3.6                1.4               0.2   \n",
            "\n",
            "  True Class  Cluster  \n",
            "0     setosa        1  \n",
            "1     setosa        1  \n",
            "2     setosa        1  \n",
            "3     setosa        1  \n",
            "4     setosa        1  \n",
            "\n",
            "Cluster distribution:\n",
            "True Class  Cluster\n",
            "setosa      1          49\n",
            "virginica   2          42\n",
            "versicolor  0          37\n",
            "            2          13\n",
            "virginica   0           8\n",
            "setosa      0           1\n",
            "Name: count, dtype: int64\n"
          ]
        },
        {
          "output_type": "display_data",
          "data": {
            "text/plain": [
              "<Figure size 1000x600 with 1 Axes>"
            ],
            "image/png": "[encoded data removed]"
          },
          "metadata": {}
        }
      ]
    },
    {
      "cell_type": "markdown",
      "source": [
        "$PROGRAM-9$ : $PERCEPTRON$ $HEBBS$ $DELTA$"
      ],
      "metadata": {
        "id": "27LicmjgRnfV"
      }
    },
    {
      "cell_type": "code",
      "source": [
        "import numpy as np\n",
        "\n",
        "# Input patterns (2 features + bias)\n",
        "X = np.array([[1, 1, 1],     # Class 1\n",
        "              [1, -1, 1],    # Class 1\n",
        "              [-1, 1, 1],    # Class 2\n",
        "              [-1, -1, 1]])  # Class 2\n",
        "\n",
        "# Desired outputs (for visualization only, not used in Hebb's rule)\n",
        "Y = np.array([1, 1, -1, -1])\n",
        "\n",
        "# Initialize weights\n",
        "weights = np.zeros(3)\n",
        "\n",
        "# Hebb's learning rule: w = w + x*y\n",
        "for i in range(len(X)):\n",
        "    weights += X[i] * Y[i]\n",
        "    print(f\"After sample {i+1}, updated weights: {weights}\")\n",
        "\n",
        "# Display final weights\n",
        "print(\"\\nFinal weights after Hebb's learning:\", weights)\n"
      ],
      "metadata": {
        "colab": {
          "base_uri": "https://localhost:8080/"
        },
        "id": "zLJI7MvPSZws",
        "outputId": "ddb3e8ed-9c73-4918-da9a-55c7e2ce7a60"
      },
      "execution_count": null,
      "outputs": [
        {
          "output_type": "stream",
          "name": "stdout",
          "text": [
            "After sample 1, updated weights: [1. 1. 1.]\n",
            "After sample 2, updated weights: [2. 0. 2.]\n",
            "After sample 3, updated weights: [ 3. -1.  1.]\n",
            "After sample 4, updated weights: [4. 0. 0.]\n",
            "\n",
            "Final weights after Hebb's learning: [4. 0. 0.]\n"
          ]
        }
      ]
    },
    {
      "cell_type": "code",
      "source": [
        "#DELTA\n",
        "import numpy as np\n",
        "\n",
        "# Input patterns (2 features + bias)\n",
        "X = np.array([[1, 1, 1],\n",
        "              [1, -1, 1],\n",
        "              [-1, 1, 1],\n",
        "              [-1, -1, 1]])\n",
        "\n",
        "# Desired outputs\n",
        "Y = np.array([1, 1, -1, -1])\n",
        "\n",
        "# Initialize weights\n",
        "weights = np.zeros(3)\n",
        "learning_rate = 0.1\n",
        "\n",
        "# Training\n",
        "for epoch in range(10):\n",
        "    print(f\"\\nEpoch {epoch+1}\")\n",
        "    for i in range(len(X)):\n",
        "        y_pred = np.sign(np.dot(X[i], weights))\n",
        "        error = Y[i] - y_pred\n",
        "        weights += learning_rate * error * X[i]\n",
        "        print(f\"Sample {i+1}: Pred={y_pred}, Error={error}, Weights={weights}\")\n",
        "\n",
        "# Display final weights\n",
        "print(\"\\nFinal weights after Perceptron Delta Rule:\", weights)\n"
      ],
      "metadata": {
        "colab": {
          "base_uri": "https://localhost:8080/"
        },
        "id": "Dyz3_1JlScmu",
        "outputId": "79b70118-b930-401d-9443-d02f49e822e6"
      },
      "execution_count": null,
      "outputs": [
        {
          "output_type": "stream",
          "name": "stdout",
          "text": [
            "\n",
            "Epoch 1\n",
            "Sample 1: Pred=0.0, Error=1.0, Weights=[0.1 0.1 0.1]\n",
            "Sample 2: Pred=1.0, Error=0.0, Weights=[0.1 0.1 0.1]\n",
            "Sample 3: Pred=1.0, Error=-2.0, Weights=[ 0.3 -0.1 -0.1]\n",
            "Sample 4: Pred=-1.0, Error=0.0, Weights=[ 0.3 -0.1 -0.1]\n",
            "\n",
            "Epoch 2\n",
            "Sample 1: Pred=1.0, Error=0.0, Weights=[ 0.3 -0.1 -0.1]\n",
            "Sample 2: Pred=1.0, Error=0.0, Weights=[ 0.3 -0.1 -0.1]\n",
            "Sample 3: Pred=-1.0, Error=0.0, Weights=[ 0.3 -0.1 -0.1]\n",
            "Sample 4: Pred=-1.0, Error=0.0, Weights=[ 0.3 -0.1 -0.1]\n",
            "\n",
            "Epoch 3\n",
            "Sample 1: Pred=1.0, Error=0.0, Weights=[ 0.3 -0.1 -0.1]\n",
            "Sample 2: Pred=1.0, Error=0.0, Weights=[ 0.3 -0.1 -0.1]\n",
            "Sample 3: Pred=-1.0, Error=0.0, Weights=[ 0.3 -0.1 -0.1]\n",
            "Sample 4: Pred=-1.0, Error=0.0, Weights=[ 0.3 -0.1 -0.1]\n",
            "\n",
            "Epoch 4\n",
            "Sample 1: Pred=1.0, Error=0.0, Weights=[ 0.3 -0.1 -0.1]\n",
            "Sample 2: Pred=1.0, Error=0.0, Weights=[ 0.3 -0.1 -0.1]\n",
            "Sample 3: Pred=-1.0, Error=0.0, Weights=[ 0.3 -0.1 -0.1]\n",
            "Sample 4: Pred=-1.0, Error=0.0, Weights=[ 0.3 -0.1 -0.1]\n",
            "\n",
            "Epoch 5\n",
            "Sample 1: Pred=1.0, Error=0.0, Weights=[ 0.3 -0.1 -0.1]\n",
            "Sample 2: Pred=1.0, Error=0.0, Weights=[ 0.3 -0.1 -0.1]\n",
            "Sample 3: Pred=-1.0, Error=0.0, Weights=[ 0.3 -0.1 -0.1]\n",
            "Sample 4: Pred=-1.0, Error=0.0, Weights=[ 0.3 -0.1 -0.1]\n",
            "\n",
            "Epoch 6\n",
            "Sample 1: Pred=1.0, Error=0.0, Weights=[ 0.3 -0.1 -0.1]\n",
            "Sample 2: Pred=1.0, Error=0.0, Weights=[ 0.3 -0.1 -0.1]\n",
            "Sample 3: Pred=-1.0, Error=0.0, Weights=[ 0.3 -0.1 -0.1]\n",
            "Sample 4: Pred=-1.0, Error=0.0, Weights=[ 0.3 -0.1 -0.1]\n",
            "\n",
            "Epoch 7\n",
            "Sample 1: Pred=1.0, Error=0.0, Weights=[ 0.3 -0.1 -0.1]\n",
            "Sample 2: Pred=1.0, Error=0.0, Weights=[ 0.3 -0.1 -0.1]\n",
            "Sample 3: Pred=-1.0, Error=0.0, Weights=[ 0.3 -0.1 -0.1]\n",
            "Sample 4: Pred=-1.0, Error=0.0, Weights=[ 0.3 -0.1 -0.1]\n",
            "\n",
            "Epoch 8\n",
            "Sample 1: Pred=1.0, Error=0.0, Weights=[ 0.3 -0.1 -0.1]\n",
            "Sample 2: Pred=1.0, Error=0.0, Weights=[ 0.3 -0.1 -0.1]\n",
            "Sample 3: Pred=-1.0, Error=0.0, Weights=[ 0.3 -0.1 -0.1]\n",
            "Sample 4: Pred=-1.0, Error=0.0, Weights=[ 0.3 -0.1 -0.1]\n",
            "\n",
            "Epoch 9\n",
            "Sample 1: Pred=1.0, Error=0.0, Weights=[ 0.3 -0.1 -0.1]\n",
            "Sample 2: Pred=1.0, Error=0.0, Weights=[ 0.3 -0.1 -0.1]\n",
            "Sample 3: Pred=-1.0, Error=0.0, Weights=[ 0.3 -0.1 -0.1]\n",
            "Sample 4: Pred=-1.0, Error=0.0, Weights=[ 0.3 -0.1 -0.1]\n",
            "\n",
            "Epoch 10\n",
            "Sample 1: Pred=1.0, Error=0.0, Weights=[ 0.3 -0.1 -0.1]\n",
            "Sample 2: Pred=1.0, Error=0.0, Weights=[ 0.3 -0.1 -0.1]\n",
            "Sample 3: Pred=-1.0, Error=0.0, Weights=[ 0.3 -0.1 -0.1]\n",
            "Sample 4: Pred=-1.0, Error=0.0, Weights=[ 0.3 -0.1 -0.1]\n",
            "\n",
            "Final weights after Perceptron Delta Rule: [ 0.3 -0.1 -0.1]\n"
          ]
        }
      ]
    },
    {
      "cell_type": "markdown",
      "source": [
        "$PROGRAM-10$ : $ENSEMBLE$ $NETWORK$ $PROGRAMMING$"
      ],
      "metadata": {
        "id": "c1HFiKYIShrP"
      }
    },
    {
      "cell_type": "code",
      "source": [
        "from sklearn.datasets import make_classification\n",
        "from sklearn.model_selection import train_test_split\n",
        "from sklearn.linear_model import LogisticRegression\n",
        "from sklearn.tree import DecisionTreeClassifier\n",
        "from sklearn.neighbors import KNeighborsClassifier\n",
        "from sklearn.ensemble import VotingClassifier\n",
        "from sklearn.metrics import accuracy_score\n",
        "\n",
        "# 1. Generate a simple dataset\n",
        "X, y = make_classification(n_samples=100, n_features=2, n_informative=2,\n",
        "                           n_redundant=0, random_state=1)\n",
        "\n",
        "# 2. Split into training and test sets\n",
        "X_train, X_test, y_train, y_test = train_test_split(X, y, test_size=0.3, random_state=42)\n",
        "\n",
        "# 3. Define individual models\n",
        "model1 = LogisticRegression()\n",
        "model2 = DecisionTreeClassifier()\n",
        "model3 = KNeighborsClassifier()\n",
        "\n",
        "# 4. Create Ensemble using Voting Classifier\n",
        "ensemble = VotingClassifier(estimators=[\n",
        "    ('lr', model1),\n",
        "    ('dt', model2),\n",
        "    ('knn', model3)\n",
        "], voting='hard')  # Use 'soft' for probabilities\n",
        "\n",
        "# 5. Train models\n",
        "model1.fit(X_train, y_train)\n",
        "model2.fit(X_train, y_train)\n",
        "model3.fit(X_train, y_train)\n",
        "ensemble.fit(X_train, y_train)\n",
        "\n",
        "# 6. Predict using individual models and ensemble\n",
        "pred1 = model1.predict(X_test)\n",
        "pred2 = model2.predict(X_test)\n",
        "pred3 = model3.predict(X_test)\n",
        "pred_ens = ensemble.predict(X_test)\n",
        "\n",
        "# 7. Display accuracy\n",
        "print(\"Accuracy of Logistic Regression:\", accuracy_score(y_test, pred1))\n",
        "print(\"Accuracy of Decision Tree      :\", accuracy_score(y_test, pred2))\n",
        "print(\"Accuracy of KNN                :\", accuracy_score(y_test, pred3))\n",
        "print(\"Accuracy of Ensemble Model     :\", accuracy_score(y_test, pred_ens))\n",
        "\n",
        "# 8. Display sample predictions\n",
        "print(\"\\nSample Predictions (first 5 test points):\")\n",
        "print(\"LR  :\", pred1[:5])\n",
        "print(\"DT  :\", pred2[:5])\n",
        "print(\"KNN :\", pred3[:5])\n",
        "print(\"Ensemble:\", pred_ens[:5])\n"
      ],
      "metadata": {
        "colab": {
          "base_uri": "https://localhost:8080/"
        },
        "id": "W3HKsA6bStPZ",
        "outputId": "a445ad20-6ec1-4992-bad2-69363a98a402"
      },
      "execution_count": null,
      "outputs": [
        {
          "output_type": "stream",
          "name": "stdout",
          "text": [
            "Accuracy of Logistic Regression: 1.0\n",
            "Accuracy of Decision Tree      : 0.9333333333333333\n",
            "Accuracy of KNN                : 0.9666666666666667\n",
            "Accuracy of Ensemble Model     : 1.0\n",
            "\n",
            "Sample Predictions (first 5 test points):\n",
            "LR  : [1 0 0 1 1]\n",
            "DT  : [1 0 0 1 1]\n",
            "KNN : [1 0 0 1 1]\n",
            "Ensemble: [1 0 0 1 1]\n"
          ]
        }
      ]
    }
  ]
}